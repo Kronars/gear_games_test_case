{
 "cells": [
  {
   "cell_type": "code",
   "execution_count": 5,
   "metadata": {},
   "outputs": [],
   "source": [
    "from altunityrunner import AltUnityDriver\n",
    "from altunityrunner import By\n",
    "from time import sleep\n",
    "from altunityrunner import logger"
   ]
  },
  {
   "cell_type": "code",
   "execution_count": 17,
   "metadata": {},
   "outputs": [
    {
     "name": "stderr",
     "output_type": "stream",
     "text": [
      "2022-10-22 20:38:23.232 | DEBUG    | altunityrunner.runner:__init__:266 - Get server Version\n",
      "2022-10-22 20:38:23.346 | DEBUG    | altunityrunner.commands.base_command:recvall:46 - Received data was: 1.5.7\n",
      "2022-10-22 20:38:23.347 | INFO     | altunityrunner.runner:__init__:269 - Connection established with AltUnity Server. Version: 1.5.7\n",
      "2022-10-22 20:38:23.360 | DEBUG    | altunityrunner.commands.base_command:recvall:46 - Received data was: Ok\n"
     ]
    }
   ],
   "source": [
    "altdriver = AltUnityDriver()\n",
    "logger.disable(\"altunityrunner\")"
   ]
  },
  {
   "cell_type": "markdown",
   "metadata": {},
   "source": [
    "### Полезные команды\n",
    "```python\n",
    "get_all_components() - все компоненты gameObject a\n",
    "get_all_fields(название компонента) - все поля компонента и их оригинальные названия\n",
    "altdriver.get_all_elements() - посмотреть все активные элементы\n",
    "```"
   ]
  },
  {
   "cell_type": "markdown",
   "metadata": {},
   "source": [
    "Просмотр всех активных объектов"
   ]
  },
  {
   "cell_type": "code",
   "execution_count": null,
   "metadata": {},
   "outputs": [],
   "source": [
    "for el in altdriver.get_all_elements():\n",
    "    print(el.name, end='\\t')"
   ]
  },
  {
   "cell_type": "markdown",
   "metadata": {},
   "source": [
    "### Тест слайдеров громкости"
   ]
  },
  {
   "cell_type": "code",
   "execution_count": 86,
   "metadata": {},
   "outputs": [
    {
     "name": "stderr",
     "output_type": "stream",
     "text": [
      "2022-10-22 17:19:02.324 | DEBUG    | altunityrunner.commands.base_command:recvall:46 - Received data was: Ok\n",
      "2022-10-22 17:19:02.365 | DEBUG    | altunityrunner.commands.base_command:recvall:46 - Received data was: Scene Loaded\n",
      "2022-10-22 17:19:02.367 | DEBUG    | altunityrunner.commands.UnityCommands.load_scene:execute:17 - Scene loaded: Main\n"
     ]
    },
    {
     "data": {
      "text/plain": [
       "'Scene Loaded'"
      ]
     },
     "execution_count": 86,
     "metadata": {},
     "output_type": "execute_result"
    }
   ],
   "source": [
    "from time import sleep\n",
    "\n",
    "altdriver.load_scene('Main')\n",
    "\n",
    "altdriver.find_object(By.NAME, 'SettingButton').tap()\n",
    "\n",
    "settings_path = '//UICamera/Loadout/SettingPopup/Background/'\n",
    "\n",
    "master_vol = altdriver.find_object(By.PATH, settings_path+'MasterSlider')\n",
    "music_vol  = altdriver.find_object(By.PATH, settings_path+'MusicSlider')\t\n",
    "sfx_vol    = altdriver.find_object(By.PATH, settings_path+'MasterSFXSlider')\n",
    "\n",
    "master_vol.set_component_property('UnityEngine.UI.Slider', 'value', 1)\n",
    "music_vol.set_component_property('UnityEngine.UI.Slider', 'value', 1)\n",
    "\n",
    "altdriver.swipe(*master_vol.get_screen_position(), int(master_vol.x) - 200, master_vol.y, duration_in_secs=1)\n",
    "altdriver.swipe(*music_vol.get_screen_position(), int(master_vol.x) - 200, master_vol.y, duration_in_secs=1)\n",
    "altdriver.swipe(*sfx_vol.get_screen_position(), int(master_vol.x) - 200, master_vol.y, duration_in_secs=1)\n",
    "\n",
    "sleep(1)\n",
    "\n",
    "music_vol.get_component_property('UnityEngine.UI.Slider', 'value')"
   ]
  },
  {
   "cell_type": "markdown",
   "metadata": {},
   "source": [
    "### Тест наличия элементов в магазине"
   ]
  },
  {
   "cell_type": "code",
   "execution_count": 105,
   "metadata": {},
   "outputs": [
    {
     "name": "stderr",
     "output_type": "stream",
     "text": [
      "2022-10-22 17:53:09.058 | DEBUG    | altunityrunner.commands.base_command:recvall:46 - Received data was: Ok\n",
      "2022-10-22 17:53:09.268 | DEBUG    | altunityrunner.commands.base_command:recvall:46 - Received data was: Scene Loaded\n",
      "2022-10-22 17:53:09.271 | DEBUG    | altunityrunner.commands.UnityCommands.load_scene:execute:17 - Scene loaded: Main\n"
     ]
    },
    {
     "data": {
      "text/plain": [
       "'Scene Loaded'"
      ]
     },
     "execution_count": 105,
     "metadata": {},
     "output_type": "execute_result"
    }
   ],
   "source": [
    "altdriver.load_scene('Shop')\n",
    "altdriver.find_object(1, 'Themes').tap()"
   ]
  },
  {
   "cell_type": "code",
   "execution_count": 120,
   "metadata": {},
   "outputs": [
    {
     "name": "stderr",
     "output_type": "stream",
     "text": [
      "2022-10-22 18:15:57.173 | DEBUG    | altunityrunner.commands.base_command:recvall:46 - Received data was: [{\"name\":\"ItemEntry(Clone)\",\"id\":-7304,\"x\":-1,\"y\":-1,\"z\":-1,\"mobileY\":1081,\"type\":\"\",\"enabled\":true,\"worldX\":960.0,\"worldY\":96.00003,\"worldZ\":0.0,\"idCamera\":-1,\"parentId\":41314,\"transformId\":-7306},{\"name\":\"ItemEntry(Clone)\",\"id\":-7440,\"x\":-1,\"y\":-1,\"z\":-1,\"mobileY\":1081,\"type\":\"\",\"enabled\":true,\"worldX\":960.0,\"worldY\":-477.333374,\"worldZ\":0.0,\"idCamera\":-1,\"parentId\":41314,\"transformId\":-7442}]\n",
      "2022-10-22 18:15:57.177 | DEBUG    | altunityrunner.commands.command_returning_alt_elements:get_alt_elements:47 - Element ItemEntry(Clone) found at x:-1 y:-1 mobileY:1081\n",
      "2022-10-22 18:15:57.178 | DEBUG    | altunityrunner.commands.command_returning_alt_elements:get_alt_elements:47 - Element ItemEntry(Clone) found at x:-1 y:-1 mobileY:1081\n",
      "2022-10-22 18:15:57.192 | DEBUG    | altunityrunner.commands.base_command:recvall:46 - Received data was: {\"name\":\"Name\",\"id\":-7344,\"x\":-1,\"y\":-1,\"z\":-1,\"mobileY\":1081,\"type\":\"\",\"enabled\":true,\"worldX\":1193.33337,\"worldY\":190.222229,\"worldZ\":0.0,\"idCamera\":-1,\"parentId\":-7340,\"transformId\":-7346}\n",
      "2022-10-22 18:15:57.198 | DEBUG    | altunityrunner.commands.command_returning_alt_elements:get_alt_element:16 - {\"name\":\"Name\",\"id\":-7344,\"x\":-1,\"y\":-1,\"z\":-1,\"mobileY\":1081,\"type\":\"\",\"enabled\":true,\"worldX\":1193.33337,\"worldY\":190.222229,\"worldZ\":0.0,\"idCamera\":-1,\"parentId\":-7340,\"transformId\":-7346}\n",
      "2022-10-22 18:15:57.200 | DEBUG    | altunityrunner.commands.command_returning_alt_elements:get_alt_element:23 - Element Name found at x:-1 y:-1 mobileY:1081\n",
      "2022-10-22 18:15:57.209 | DEBUG    | altunityrunner.commands.base_command:recvall:46 - Received data was: Day\n",
      "2022-10-22 18:15:57.225 | DEBUG    | altunityrunner.commands.base_command:recvall:46 - Received data was: {\"name\":\"Name\",\"id\":-7480,\"x\":-1,\"y\":-1,\"z\":-1,\"mobileY\":1081,\"type\":\"\",\"enabled\":true,\"worldX\":1193.33337,\"worldY\":-364.148132,\"worldZ\":0.0,\"idCamera\":-1,\"parentId\":-7476,\"transformId\":-7482}\n",
      "2022-10-22 18:15:57.227 | DEBUG    | altunityrunner.commands.command_returning_alt_elements:get_alt_element:16 - {\"name\":\"Name\",\"id\":-7480,\"x\":-1,\"y\":-1,\"z\":-1,\"mobileY\":1081,\"type\":\"\",\"enabled\":true,\"worldX\":1193.33337,\"worldY\":-364.148132,\"worldZ\":0.0,\"idCamera\":-1,\"parentId\":-7476,\"transformId\":-7482}\n",
      "2022-10-22 18:15:57.228 | DEBUG    | altunityrunner.commands.command_returning_alt_elements:get_alt_element:23 - Element Name found at x:-1 y:-1 mobileY:1081\n",
      "2022-10-22 18:15:57.242 | DEBUG    | altunityrunner.commands.base_command:recvall:46 - Received data was: NightTime\n"
     ]
    },
    {
     "name": "stdout",
     "output_type": "stream",
     "text": [
      "Day\n",
      "NightTime\n"
     ]
    }
   ],
   "source": [
    "shop_items = altdriver.find_objects(1, 'ItemEntry(Clone)')\n",
    "\n",
    "for item in shop_items:\n",
    "    item = altdriver.find_object(By.PATH, f'//@id={item.id}/NamePriceButtonZone/Name')\n",
    "    item_value = item.get_component_property('UnityEngine.UI.Text', 'text')\n",
    "    print(item_value)"
   ]
  },
  {
   "cell_type": "code",
   "execution_count": null,
   "metadata": {},
   "outputs": [],
   "source": [
    "['Safety', 'Party Hat', 'Smart', 'Safety', 'Party Hat',]\n",
    "['Day', 'NightTime',]"
   ]
  },
  {
   "cell_type": "markdown",
   "metadata": {},
   "source": [
    "### Тест геймплея"
   ]
  },
  {
   "cell_type": "code",
   "execution_count": 28,
   "metadata": {},
   "outputs": [
    {
     "data": {
      "text/plain": [
       "AltElement called: StartButton"
      ]
     },
     "execution_count": 28,
     "metadata": {},
     "output_type": "execute_result"
    }
   ],
   "source": [
    "altdriver.load_scene('Main')\n",
    "altdriver.find_object(1, 'StartButton').tap()"
   ]
  },
  {
   "cell_type": "code",
   "execution_count": 43,
   "metadata": {},
   "outputs": [
    {
     "data": {
      "text/plain": [
       "True"
      ]
     },
     "execution_count": 43,
     "metadata": {},
     "output_type": "execute_result"
    }
   ],
   "source": [
    "set(['Text', 'ButtonLayout', 'PremiumDisplay', 'GameOver']) == set(elements_names)"
   ]
  },
  {
   "cell_type": "code",
   "execution_count": 45,
   "metadata": {},
   "outputs": [
    {
     "data": {
      "text/plain": [
       "['Text',\n",
       " 'Highscore',\n",
       " 'OpenLeaderboard',\n",
       " 'Loadout',\n",
       " 'RunButton',\n",
       " 'MissionsButton',\n",
       " 'StoreButton']"
      ]
     },
     "execution_count": 45,
     "metadata": {},
     "output_type": "execute_result"
    }
   ],
   "source": [
    "# death = altdriver.wait_for_object(By.NAME, 'DeathPopup', timeout=30)\n",
    "\n",
    "elements = altdriver.find_objects(By.PATH, f'//GameOver/*')\n",
    "elements_names = [el.name for el in elements]\n"
   ]
  },
  {
   "cell_type": "markdown",
   "metadata": {},
   "source": [
    "Попытка направлять персонажа на препятствия что бы ускорить тест  \n",
    "Но отказался, в пользу более простого варианта, поскольку периодически скрипт падал с ошибкой и было потрачено много времени"
   ]
  },
  {
   "cell_type": "code",
   "execution_count": null,
   "metadata": {},
   "outputs": [],
   "source": [
    "# death = altdriver.find_object(1, 'DeathPopup', enabled=False).enabled\n",
    "# while death == 'False':\n",
    "#     sleep(3)\n",
    "#     death = altdriver.find_object(1, 'DeathPopup', enabled=False).enabled\n",
    "    # character = altdriver.find_object(By.NAME,\"/PlayerPivot\")\n",
    "\n",
    "    # unsorted_obstacles = altdriver.find_objects_which_contains(1, 'Obstacle')\n",
    "    # unfiltred_obstacles = sorted(unsorted_obstacles, key=lambda el: float(el.worldZ))\n",
    "\n",
    "    # obstacle = list(filter(lambda o: character.worldZ > o.worldZ, unfiltred_obstacles))[0] # убирает препятствия которые уже позади\n",
    "\n",
    "    # while (float(obstacle.worldZ) - float(character.worldZ) > 10):\n",
    "    #     obstacle = altdriver.find_object(By.ID,obstacle.id)\n",
    "    #     character = altdriver.find_object(By.NAME,\"PlayerPivot\")\n",
    "\n",
    "    #     if altdriver.find_object(1, 'DeathPopup', enabled=False).enabled: break\n",
    "        \n",
    "\n",
    "    # if obstacle.worldX > character.worldX:\n",
    "    #     character.call_component_method(\"CharacterInputController\", \"ChangeLane\", \"1\")\n",
    "    # elif obstacle.worldX < character.worldX:\n",
    "    #     character.call_component_method(\"CharacterInputController\", \"ChangeLane\", \"-1\")"
   ]
  },
  {
   "cell_type": "code",
   "execution_count": 134,
   "metadata": {},
   "outputs": [
    {
     "name": "stderr",
     "output_type": "stream",
     "text": [
      "2022-10-22 18:52:33.184 | DEBUG    | altunityrunner.commands.close_connection:execute:14 - Sent close connection command...\n",
      "2022-10-22 18:52:34.192 | DEBUG    | altunityrunner.commands.close_connection:execute:17 - Socket closed.\n"
     ]
    }
   ],
   "source": [
    "altdriver.stop()"
   ]
  }
 ],
 "metadata": {
  "kernelspec": {
   "display_name": "Python 3.9.13 ('gg_qa')",
   "language": "python",
   "name": "python3"
  },
  "language_info": {
   "codemirror_mode": {
    "name": "ipython",
    "version": 3
   },
   "file_extension": ".py",
   "mimetype": "text/x-python",
   "name": "python",
   "nbconvert_exporter": "python",
   "pygments_lexer": "ipython3",
   "version": "3.9.13"
  },
  "orig_nbformat": 4,
  "vscode": {
   "interpreter": {
    "hash": "4395ea26f2dc96f2ae1827921eac8b3729c9dbfabd0e03a15c2b974ef89bcf08"
   }
  }
 },
 "nbformat": 4,
 "nbformat_minor": 2
}
